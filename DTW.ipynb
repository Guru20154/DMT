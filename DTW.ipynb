{
 "cells": [
  {
   "cell_type": "code",
   "execution_count": 1,
   "metadata": {},
   "outputs": [],
   "source": [
    "train_drec = 'training-spectrograms'\n",
    "test_drec = 'testing-spectrograms'"
   ]
  },
  {
   "cell_type": "code",
   "execution_count": 2,
   "metadata": {},
   "outputs": [],
   "source": [
    "import os\n",
    "import librosa\n",
    "import numpy as np\n",
    "\n",
    "w = 240\n",
    "s = 120\n",
    "j=0\n",
    "for filename in os.listdir(train_drec):\n",
    "    path = train_drec + \"/\" + filename\n",
    "    audio_data, sample_rate = librosa.load(path)\n",
    "    num_frames = (len(audio_data) - w) // s + 1\n",
    "    frames = np.zeros((num_frames, w))\n",
    "\n",
    "    split = filename.rsplit(\".\", 1)[0]\n",
    "    \n",
    "    for i in range(num_frames):\n",
    "        start = i * s\n",
    "        end = start + w\n",
    "        frames[i] = audio_data[start : end]\n",
    "    if j==0:\n",
    "        A_train = [frames]\n",
    "        label_name_train = [split]\n",
    "    else:\n",
    "        A_train = A_train + [frames]\n",
    "        label_name_train = label_name_train + [split]\n",
    "    j = j + 1\n",
    "\n",
    "h = 0\n",
    "for filename in os.listdir(test_drec):\n",
    "    path = test_drec + \"/\" + filename\n",
    "    audio_data, sample_rate = librosa.load(path)\n",
    "    num_frames = (len(audio_data) - w) // s + 1\n",
    "    frames = np.zeros((num_frames, w))\n",
    "\n",
    "    split = filename.rsplit(\".\", 1)[0]\n",
    "    \n",
    "    for i in range(num_frames):\n",
    "        start = i * s\n",
    "        end = start + w\n",
    "        frames[i] = audio_data[start : end]\n",
    "    if h==0:\n",
    "        A_test = [frames]\n",
    "        label_name_test = [split]\n",
    "    else:\n",
    "        A_test = A_test + [frames]\n",
    "        label_name_test = label_name_test + [split]\n",
    "    h = h + 1"
   ]
  },
  {
   "cell_type": "code",
   "execution_count": 3,
   "metadata": {},
   "outputs": [
    {
     "name": "stderr",
     "output_type": "stream",
     "text": [
      "C:\\Users\\ankit\\AppData\\Local\\Temp\\ipykernel_2500\\2236366387.py:1: VisibleDeprecationWarning: Creating an ndarray from ragged nested sequences (which is a list-or-tuple of lists-or-tuples-or ndarrays with different lengths or shapes) is deprecated. If you meant to do this, you must specify 'dtype=object' when creating the ndarray.\n",
      "  A_train=np.array(A_train)\n"
     ]
    },
    {
     "data": {
      "text/plain": [
       "(135, 240)"
      ]
     },
     "execution_count": 3,
     "metadata": {},
     "output_type": "execute_result"
    }
   ],
   "source": [
    "A_train=np.array(A_train)\n",
    "A_train[0].shape"
   ]
  },
  {
   "cell_type": "code",
   "execution_count": 4,
   "metadata": {},
   "outputs": [
    {
     "data": {
      "text/plain": [
       "(['0_george_10', '0_george_11', '0_george_12', '0_george_13', '0_george_14'],\n",
       " ['0_george_0', '0_george_1', '0_george_2', '0_george_3', '0_george_4'])"
      ]
     },
     "execution_count": 4,
     "metadata": {},
     "output_type": "execute_result"
    }
   ],
   "source": [
    "label_name_train[0:5],label_name_test[0:5]"
   ]
  },
  {
   "cell_type": "code",
   "execution_count": 5,
   "metadata": {},
   "outputs": [
    {
     "data": {
      "text/plain": [
       "(array([[-6.56158337e-03, -1.40369963e-02, -1.71669386e-02, ...,\n",
       "          2.01026816e-03,  1.54121476e-03,  7.36800604e-04],\n",
       "        [-3.29799368e-03, -2.37949658e-03,  1.92156294e-05, ...,\n",
       "         -3.97955999e-04, -9.88557353e-04, -1.10605045e-03],\n",
       "        [ 3.04409245e-04,  5.55580191e-04,  1.14225282e-03, ...,\n",
       "          1.10515882e-03,  3.44533531e-04, -5.62029774e-04],\n",
       "        ...,\n",
       "        [ 2.62733782e-03,  2.32200464e-03,  2.05859286e-03, ...,\n",
       "          2.18564738e-03,  2.74077477e-03,  3.56525881e-03],\n",
       "        [ 2.83672847e-03,  2.58215121e-03,  2.09627766e-03, ...,\n",
       "         -5.39426459e-03, -5.13174431e-03, -4.72025294e-03],\n",
       "        [ 4.06961842e-03,  3.95270903e-03,  3.49301053e-03, ...,\n",
       "          3.33948270e-03,  3.18617909e-03,  2.76323431e-03]]),\n",
       " array([[-0.04229989, -0.04891741, -0.0376581 , ...,  0.07926411,\n",
       "          0.09111017,  0.09099399],\n",
       "        [ 0.05116938,  0.07361019,  0.09036987, ..., -0.08270819,\n",
       "         -0.06022616, -0.02047335],\n",
       "        [ 0.08318868,  0.07566807,  0.0752084 , ..., -0.25920355,\n",
       "         -0.24739918, -0.19127223],\n",
       "        ...,\n",
       "        [ 0.05966128,  0.06573591,  0.06967591, ...,  0.04407945,\n",
       "          0.05304315,  0.0598781 ],\n",
       "        [-0.04986592, -0.05943987, -0.06879377, ..., -0.01452904,\n",
       "         -0.0250934 , -0.03624503],\n",
       "        [ 0.06375858,  0.06488495,  0.064604  , ...,  0.06576049,\n",
       "          0.07264094,  0.07879946]]))"
      ]
     },
     "execution_count": 5,
     "metadata": {},
     "output_type": "execute_result"
    }
   ],
   "source": [
    "A_train[0],A_test[0]"
   ]
  },
  {
   "cell_type": "code",
   "execution_count": 6,
   "metadata": {},
   "outputs": [],
   "source": [
    "rows=10\n",
    "cols=20\n",
    "mfcc_train = {\n",
    "    \"george\": np.zeros((rows, cols)),\n",
    "    \"jackson\": np.zeros((rows, cols)),\n",
    "    \"lucas\": np.zeros((rows, cols)),\n",
    "    \"nicolas\": np.zeros((rows, cols)),\n",
    "    \"theo\": np.zeros((rows, cols)),\n",
    "    \"yweweler\": np.zeros((rows, cols))\n",
    "}"
   ]
  },
  {
   "cell_type": "code",
   "execution_count": 10,
   "metadata": {},
   "outputs": [],
   "source": [
    "mfcc_train=[]\n",
    "for i in A_train:\n",
    "    mfcc_features = librosa.feature.mfcc(y=i, sr=22050)\n",
    "    mfcc_train = mfcc_train + [mfcc_features]\n",
    "mfcc_test=[]\n",
    "for i in A_test:\n",
    "    mfcc_features = librosa.feature.mfcc(y=i, sr=22050)\n",
    "    mfcc_test = mfcc_test + [mfcc_features]\n"
   ]
  },
  {
   "cell_type": "code",
   "execution_count": 11,
   "metadata": {},
   "outputs": [
    {
     "name": "stdout",
     "output_type": "stream",
     "text": [
      "(2700,)\n",
      "(135, 20, 1)\n",
      "(83, 20, 1)\n"
     ]
    },
    {
     "name": "stderr",
     "output_type": "stream",
     "text": [
      "C:\\Users\\ankit\\AppData\\Local\\Temp\\ipykernel_2500\\876237620.py:1: VisibleDeprecationWarning: Creating an ndarray from ragged nested sequences (which is a list-or-tuple of lists-or-tuples-or ndarrays with different lengths or shapes) is deprecated. If you meant to do this, you must specify 'dtype=object' when creating the ndarray.\n",
      "  mfcc_train=np.array(mfcc_train)\n"
     ]
    }
   ],
   "source": [
    "mfcc_train=np.array(mfcc_train)\n",
    "print(mfcc_train.shape)\n",
    "print(mfcc_train[0].shape)\n",
    "print(mfcc_train[1].shape)"
   ]
  },
  {
   "cell_type": "markdown",
   "metadata": {},
   "source": []
  },
  {
   "cell_type": "code",
   "execution_count": 6,
   "metadata": {},
   "outputs": [
    {
     "data": {
      "text/plain": [
       "(2700, 300)"
      ]
     },
     "execution_count": 6,
     "metadata": {},
     "output_type": "execute_result"
    }
   ],
   "source": [
    "len(mfcc_train),len(mfcc_test)"
   ]
  },
  {
   "cell_type": "code",
   "execution_count": null,
   "metadata": {},
   "outputs": [],
   "source": []
  },
  {
   "cell_type": "code",
   "execution_count": 7,
   "metadata": {},
   "outputs": [
    {
     "ename": "KeyboardInterrupt",
     "evalue": "",
     "output_type": "error",
     "traceback": [
      "\u001b[1;31m---------------------------------------------------------------------------\u001b[0m",
      "\u001b[1;31mKeyboardInterrupt\u001b[0m                         Traceback (most recent call last)",
      "\u001b[1;32md:\\Downloads\\isolated digit recognition\\DTW.ipynb Cell 9\u001b[0m in \u001b[0;36m<cell line: 4>\u001b[1;34m()\u001b[0m\n\u001b[0;32m      <a href='vscode-notebook-cell:/d%3A/Downloads/isolated%20digit%20recognition/DTW.ipynb#W6sZmlsZQ%3D%3D?line=5'>6</a>\u001b[0m g\u001b[39m=\u001b[39m\u001b[39m0\u001b[39m\n\u001b[0;32m      <a href='vscode-notebook-cell:/d%3A/Downloads/isolated%20digit%20recognition/DTW.ipynb#W6sZmlsZQ%3D%3D?line=6'>7</a>\u001b[0m \u001b[39mfor\u001b[39;00m i \u001b[39min\u001b[39;00m \u001b[39mrange\u001b[39m(\u001b[39m2700\u001b[39m):\n\u001b[0;32m      <a href='vscode-notebook-cell:/d%3A/Downloads/isolated%20digit%20recognition/DTW.ipynb#W6sZmlsZQ%3D%3D?line=7'>8</a>\u001b[0m     \u001b[39m# Calculate DTW distance\u001b[39;00m\n\u001b[1;32m----> <a href='vscode-notebook-cell:/d%3A/Downloads/isolated%20digit%20recognition/DTW.ipynb#W6sZmlsZQ%3D%3D?line=8'>9</a>\u001b[0m     distance, path \u001b[39m=\u001b[39m fastdtw(mfcc_test[j], mfcc_train[i])\n\u001b[0;32m     <a href='vscode-notebook-cell:/d%3A/Downloads/isolated%20digit%20recognition/DTW.ipynb#W6sZmlsZQ%3D%3D?line=9'>10</a>\u001b[0m     \u001b[39mif\u001b[39;00m distance\u001b[39m<\u001b[39mx:\n\u001b[0;32m     <a href='vscode-notebook-cell:/d%3A/Downloads/isolated%20digit%20recognition/DTW.ipynb#W6sZmlsZQ%3D%3D?line=10'>11</a>\u001b[0m         x\u001b[39m=\u001b[39mdistance\n",
      "File \u001b[1;32m~\\AppData\\Roaming\\Python\\Python310\\site-packages\\fastdtw\\fastdtw.py:53\u001b[0m, in \u001b[0;36mfastdtw\u001b[1;34m(x, y, radius, dist)\u001b[0m\n\u001b[0;32m     16\u001b[0m \u001b[39m''' return the approximate distance between 2 time series with O(N)\u001b[39;00m\n\u001b[0;32m     17\u001b[0m \u001b[39m    time and memory complexity\u001b[39;00m\n\u001b[0;32m     18\u001b[0m \n\u001b[1;32m   (...)\u001b[0m\n\u001b[0;32m     50\u001b[0m \u001b[39m    (2.0, [(0, 0), (1, 0), (2, 1), (3, 2), (4, 2)])\u001b[39;00m\n\u001b[0;32m     51\u001b[0m \u001b[39m'''\u001b[39;00m\n\u001b[0;32m     52\u001b[0m x, y, dist \u001b[39m=\u001b[39m __prep_inputs(x, y, dist)\n\u001b[1;32m---> 53\u001b[0m \u001b[39mreturn\u001b[39;00m __fastdtw(x, y, radius, dist)\n",
      "File \u001b[1;32m~\\AppData\\Roaming\\Python\\Python310\\site-packages\\fastdtw\\fastdtw.py:73\u001b[0m, in \u001b[0;36m__fastdtw\u001b[1;34m(x, y, radius, dist)\u001b[0m\n\u001b[0;32m     70\u001b[0m x_shrinked \u001b[39m=\u001b[39m __reduce_by_half(x)\n\u001b[0;32m     71\u001b[0m y_shrinked \u001b[39m=\u001b[39m __reduce_by_half(y)\n\u001b[0;32m     72\u001b[0m distance, path \u001b[39m=\u001b[39m \\\n\u001b[1;32m---> 73\u001b[0m     __fastdtw(x_shrinked, y_shrinked, radius\u001b[39m=\u001b[39;49mradius, dist\u001b[39m=\u001b[39;49mdist)\n\u001b[0;32m     74\u001b[0m window \u001b[39m=\u001b[39m __expand_window(path, \u001b[39mlen\u001b[39m(x), \u001b[39mlen\u001b[39m(y), radius)\n\u001b[0;32m     75\u001b[0m \u001b[39mreturn\u001b[39;00m __dtw(x, y, window, dist\u001b[39m=\u001b[39mdist)\n",
      "File \u001b[1;32m~\\AppData\\Roaming\\Python\\Python310\\site-packages\\fastdtw\\fastdtw.py:73\u001b[0m, in \u001b[0;36m__fastdtw\u001b[1;34m(x, y, radius, dist)\u001b[0m\n\u001b[0;32m     70\u001b[0m x_shrinked \u001b[39m=\u001b[39m __reduce_by_half(x)\n\u001b[0;32m     71\u001b[0m y_shrinked \u001b[39m=\u001b[39m __reduce_by_half(y)\n\u001b[0;32m     72\u001b[0m distance, path \u001b[39m=\u001b[39m \\\n\u001b[1;32m---> 73\u001b[0m     __fastdtw(x_shrinked, y_shrinked, radius\u001b[39m=\u001b[39;49mradius, dist\u001b[39m=\u001b[39;49mdist)\n\u001b[0;32m     74\u001b[0m window \u001b[39m=\u001b[39m __expand_window(path, \u001b[39mlen\u001b[39m(x), \u001b[39mlen\u001b[39m(y), radius)\n\u001b[0;32m     75\u001b[0m \u001b[39mreturn\u001b[39;00m __dtw(x, y, window, dist\u001b[39m=\u001b[39mdist)\n",
      "File \u001b[1;32m~\\AppData\\Roaming\\Python\\Python310\\site-packages\\fastdtw\\fastdtw.py:75\u001b[0m, in \u001b[0;36m__fastdtw\u001b[1;34m(x, y, radius, dist)\u001b[0m\n\u001b[0;32m     72\u001b[0m distance, path \u001b[39m=\u001b[39m \\\n\u001b[0;32m     73\u001b[0m     __fastdtw(x_shrinked, y_shrinked, radius\u001b[39m=\u001b[39mradius, dist\u001b[39m=\u001b[39mdist)\n\u001b[0;32m     74\u001b[0m window \u001b[39m=\u001b[39m __expand_window(path, \u001b[39mlen\u001b[39m(x), \u001b[39mlen\u001b[39m(y), radius)\n\u001b[1;32m---> 75\u001b[0m \u001b[39mreturn\u001b[39;00m __dtw(x, y, window, dist\u001b[39m=\u001b[39;49mdist)\n",
      "File \u001b[1;32m~\\AppData\\Roaming\\Python\\Python310\\site-packages\\fastdtw\\fastdtw.py:141\u001b[0m, in \u001b[0;36m__dtw\u001b[1;34m(x, y, window, dist)\u001b[0m\n\u001b[0;32m    139\u001b[0m D[\u001b[39m0\u001b[39m, \u001b[39m0\u001b[39m] \u001b[39m=\u001b[39m (\u001b[39m0\u001b[39m, \u001b[39m0\u001b[39m, \u001b[39m0\u001b[39m)\n\u001b[0;32m    140\u001b[0m \u001b[39mfor\u001b[39;00m i, j \u001b[39min\u001b[39;00m window:\n\u001b[1;32m--> 141\u001b[0m     dt \u001b[39m=\u001b[39m dist(x[i\u001b[39m-\u001b[39;49m\u001b[39m1\u001b[39;49m], y[j\u001b[39m-\u001b[39;49m\u001b[39m1\u001b[39;49m])\n\u001b[0;32m    142\u001b[0m     D[i, j] \u001b[39m=\u001b[39m \u001b[39mmin\u001b[39m((D[i\u001b[39m-\u001b[39m\u001b[39m1\u001b[39m, j][\u001b[39m0\u001b[39m]\u001b[39m+\u001b[39mdt, i\u001b[39m-\u001b[39m\u001b[39m1\u001b[39m, j), (D[i, j\u001b[39m-\u001b[39m\u001b[39m1\u001b[39m][\u001b[39m0\u001b[39m]\u001b[39m+\u001b[39mdt, i, j\u001b[39m-\u001b[39m\u001b[39m1\u001b[39m),\n\u001b[0;32m    143\u001b[0m                   (D[i\u001b[39m-\u001b[39m\u001b[39m1\u001b[39m, j\u001b[39m-\u001b[39m\u001b[39m1\u001b[39m][\u001b[39m0\u001b[39m]\u001b[39m+\u001b[39mdt, i\u001b[39m-\u001b[39m\u001b[39m1\u001b[39m, j\u001b[39m-\u001b[39m\u001b[39m1\u001b[39m), key\u001b[39m=\u001b[39m\u001b[39mlambda\u001b[39;00m a: a[\u001b[39m0\u001b[39m])\n\u001b[0;32m    144\u001b[0m path \u001b[39m=\u001b[39m []\n",
      "File \u001b[1;32m~\\AppData\\Roaming\\Python\\Python310\\site-packages\\fastdtw\\fastdtw.py:61\u001b[0m, in \u001b[0;36m__norm.<locals>.<lambda>\u001b[1;34m(a, b)\u001b[0m\n\u001b[0;32m     60\u001b[0m \u001b[39mdef\u001b[39;00m \u001b[39m__norm\u001b[39m(p):\n\u001b[1;32m---> 61\u001b[0m     \u001b[39mreturn\u001b[39;00m \u001b[39mlambda\u001b[39;00m a, b: np\u001b[39m.\u001b[39;49mlinalg\u001b[39m.\u001b[39;49mnorm(np\u001b[39m.\u001b[39;49matleast_1d(a) \u001b[39m-\u001b[39;49m np\u001b[39m.\u001b[39;49matleast_1d(b), p)\n",
      "File \u001b[1;32m<__array_function__ internals>:180\u001b[0m, in \u001b[0;36mnorm\u001b[1;34m(*args, **kwargs)\u001b[0m\n",
      "File \u001b[1;32m~\\AppData\\Roaming\\Python\\Python310\\site-packages\\numpy\\linalg\\linalg.py:2571\u001b[0m, in \u001b[0;36mnorm\u001b[1;34m(x, ord, axis, keepdims)\u001b[0m\n\u001b[0;32m   2569\u001b[0m     \u001b[39mif\u001b[39;00m col_axis \u001b[39m>\u001b[39m row_axis:\n\u001b[0;32m   2570\u001b[0m         col_axis \u001b[39m-\u001b[39m\u001b[39m=\u001b[39m \u001b[39m1\u001b[39m\n\u001b[1;32m-> 2571\u001b[0m     ret \u001b[39m=\u001b[39m add\u001b[39m.\u001b[39;49mreduce(\u001b[39mabs\u001b[39;49m(x), axis\u001b[39m=\u001b[39;49mrow_axis)\u001b[39m.\u001b[39mmax(axis\u001b[39m=\u001b[39mcol_axis)\n\u001b[0;32m   2572\u001b[0m \u001b[39melif\u001b[39;00m \u001b[39mord\u001b[39m \u001b[39m==\u001b[39m Inf:\n\u001b[0;32m   2573\u001b[0m     \u001b[39mif\u001b[39;00m row_axis \u001b[39m>\u001b[39m col_axis:\n",
      "\u001b[1;31mKeyboardInterrupt\u001b[0m: "
     ]
    }
   ],
   "source": [
    "from fastdtw import fastdtw\n",
    "import sys\n",
    "\n",
    "for j in range(300):    \n",
    "    x=sys.maxsize\n",
    "    g=0\n",
    "    for i in range(2700):\n",
    "        # Calculate DTW distance\n",
    "        distance, path = fastdtw(mfcc_test[j], mfcc_train[i])\n",
    "        if distance<x:\n",
    "            x=distance\n",
    "            g=i\n",
    "    if j==0:\n",
    "        R = [[label_name_train[g],label_name_test[j]]]\n",
    "    else:\n",
    "        R = R + [[label_name_train[g],label_name_test[j]]]"
   ]
  },
  {
   "cell_type": "code",
   "execution_count": null,
   "metadata": {},
   "outputs": [
    {
     "data": {
      "text/plain": [
       "300"
      ]
     },
     "execution_count": 8,
     "metadata": {},
     "output_type": "execute_result"
    }
   ],
   "source": [
    "len(R)"
   ]
  },
  {
   "cell_type": "code",
   "execution_count": null,
   "metadata": {},
   "outputs": [
    {
     "data": {
      "text/plain": [
       "[['0_george_38', '0_george_0'],\n",
       " ['0_george_11', '0_george_1'],\n",
       " ['0_george_8', '0_george_2'],\n",
       " ['0_george_8', '0_george_3'],\n",
       " ['0_george_8', '0_george_4'],\n",
       " ['0_jackson_22', '0_jackson_0'],\n",
       " ['0_jackson_16', '0_jackson_1'],\n",
       " ['0_jackson_7', '0_jackson_2'],\n",
       " ['0_jackson_25', '0_jackson_3'],\n",
       " ['0_jackson_16', '0_jackson_4'],\n",
       " ['0_lucas_6', '0_lucas_0'],\n",
       " ['0_lucas_6', '0_lucas_1'],\n",
       " ['0_lucas_13', '0_lucas_2'],\n",
       " ['0_lucas_6', '0_lucas_3'],\n",
       " ['0_lucas_7', '0_lucas_4'],\n",
       " ['3_nicolas_16', '0_nicolas_0'],\n",
       " ['0_nicolas_35', '0_nicolas_1'],\n",
       " ['3_nicolas_18', '0_nicolas_2'],\n",
       " ['0_nicolas_5', '0_nicolas_3'],\n",
       " ['0_nicolas_36', '0_nicolas_4'],\n",
       " ['0_theo_14', '0_theo_0'],\n",
       " ['0_theo_8', '0_theo_1'],\n",
       " ['0_theo_14', '0_theo_2'],\n",
       " ['0_theo_8', '0_theo_3'],\n",
       " ['0_theo_8', '0_theo_4'],\n",
       " ['0_yweweler_20', '0_yweweler_0'],\n",
       " ['0_yweweler_20', '0_yweweler_1'],\n",
       " ['0_yweweler_20', '0_yweweler_2'],\n",
       " ['0_yweweler_26', '0_yweweler_3'],\n",
       " ['0_yweweler_41', '0_yweweler_4'],\n",
       " ['1_george_6', '1_george_0'],\n",
       " ['1_george_12', '1_george_1'],\n",
       " ['1_george_13', '1_george_2'],\n",
       " ['1_george_6', '1_george_3'],\n",
       " ['1_george_6', '1_george_4'],\n",
       " ['1_jackson_5', '1_jackson_0'],\n",
       " ['1_jackson_8', '1_jackson_1'],\n",
       " ['1_jackson_8', '1_jackson_2'],\n",
       " ['1_jackson_6', '1_jackson_3'],\n",
       " ['1_jackson_37', '1_jackson_4'],\n",
       " ['1_lucas_5', '1_lucas_0'],\n",
       " ['1_lucas_6', '1_lucas_1'],\n",
       " ['1_lucas_5', '1_lucas_2'],\n",
       " ['1_lucas_43', '1_lucas_3'],\n",
       " ['1_lucas_5', '1_lucas_4'],\n",
       " ['1_nicolas_13', '1_nicolas_0'],\n",
       " ['1_nicolas_19', '1_nicolas_1'],\n",
       " ['1_nicolas_19', '1_nicolas_2'],\n",
       " ['1_nicolas_19', '1_nicolas_3'],\n",
       " ['1_nicolas_9', '1_nicolas_4'],\n",
       " ['1_theo_16', '1_theo_0'],\n",
       " ['1_theo_5', '1_theo_1'],\n",
       " ['1_theo_5', '1_theo_2'],\n",
       " ['1_theo_45', '1_theo_3'],\n",
       " ['1_theo_16', '1_theo_4'],\n",
       " ['1_yweweler_44', '1_yweweler_0'],\n",
       " ['1_yweweler_7', '1_yweweler_1'],\n",
       " ['1_yweweler_9', '1_yweweler_2'],\n",
       " ['1_yweweler_25', '1_yweweler_3'],\n",
       " ['1_yweweler_5', '1_yweweler_4'],\n",
       " ['2_george_9', '2_george_0'],\n",
       " ['2_george_10', '2_george_1'],\n",
       " ['2_george_9', '2_george_2'],\n",
       " ['2_george_15', '2_george_3'],\n",
       " ['2_george_15', '2_george_4'],\n",
       " ['2_jackson_16', '2_jackson_0'],\n",
       " ['2_jackson_19', '2_jackson_1'],\n",
       " ['2_jackson_37', '2_jackson_2'],\n",
       " ['2_jackson_5', '2_jackson_3'],\n",
       " ['2_jackson_35', '2_jackson_4'],\n",
       " ['2_lucas_5', '2_lucas_0'],\n",
       " ['2_lucas_5', '2_lucas_1'],\n",
       " ['2_lucas_5', '2_lucas_2'],\n",
       " ['2_lucas_5', '2_lucas_3'],\n",
       " ['2_lucas_5', '2_lucas_4'],\n",
       " ['2_nicolas_13', '2_nicolas_0'],\n",
       " ['2_nicolas_30', '2_nicolas_1'],\n",
       " ['2_nicolas_42', '2_nicolas_2'],\n",
       " ['2_nicolas_6', '2_nicolas_3'],\n",
       " ['2_nicolas_34', '2_nicolas_4'],\n",
       " ['2_theo_10', '2_theo_0'],\n",
       " ['2_theo_10', '2_theo_1'],\n",
       " ['2_yweweler_43', '2_theo_2'],\n",
       " ['2_theo_34', '2_theo_3'],\n",
       " ['2_theo_15', '2_theo_4'],\n",
       " ['2_yweweler_47', '2_yweweler_0'],\n",
       " ['2_yweweler_34', '2_yweweler_1'],\n",
       " ['2_yweweler_19', '2_yweweler_2'],\n",
       " ['2_yweweler_15', '2_yweweler_3'],\n",
       " ['2_yweweler_6', '2_yweweler_4'],\n",
       " ['3_george_18', '3_george_0'],\n",
       " ['3_george_8', '3_george_1'],\n",
       " ['3_george_8', '3_george_2'],\n",
       " ['3_george_8', '3_george_3'],\n",
       " ['3_george_8', '3_george_4'],\n",
       " ['3_jackson_12', '3_jackson_0'],\n",
       " ['3_jackson_12', '3_jackson_1'],\n",
       " ['3_jackson_29', '3_jackson_2'],\n",
       " ['3_jackson_31', '3_jackson_3'],\n",
       " ['3_jackson_22', '3_jackson_4'],\n",
       " ['3_lucas_23', '3_lucas_0'],\n",
       " ['3_lucas_44', '3_lucas_1'],\n",
       " ['3_lucas_5', '3_lucas_2'],\n",
       " ['3_lucas_44', '3_lucas_3'],\n",
       " ['3_lucas_5', '3_lucas_4'],\n",
       " ['2_nicolas_46', '3_nicolas_0'],\n",
       " ['3_nicolas_14', '3_nicolas_1'],\n",
       " ['3_nicolas_18', '3_nicolas_2'],\n",
       " ['3_nicolas_17', '3_nicolas_3'],\n",
       " ['2_nicolas_46', '3_nicolas_4'],\n",
       " ['3_theo_9', '3_theo_0'],\n",
       " ['3_theo_7', '3_theo_1'],\n",
       " ['3_theo_11', '3_theo_2'],\n",
       " ['3_theo_11', '3_theo_3'],\n",
       " ['3_theo_10', '3_theo_4'],\n",
       " ['3_yweweler_25', '3_yweweler_0'],\n",
       " ['3_yweweler_20', '3_yweweler_1'],\n",
       " ['3_yweweler_15', '3_yweweler_2'],\n",
       " ['3_yweweler_25', '3_yweweler_3'],\n",
       " ['3_yweweler_18', '3_yweweler_4'],\n",
       " ['4_george_46', '4_george_0'],\n",
       " ['4_george_16', '4_george_1'],\n",
       " ['4_george_29', '4_george_2'],\n",
       " ['4_george_10', '4_george_3'],\n",
       " ['4_george_10', '4_george_4'],\n",
       " ['4_jackson_33', '4_jackson_0'],\n",
       " ['4_jackson_36', '4_jackson_1'],\n",
       " ['4_jackson_36', '4_jackson_2'],\n",
       " ['4_jackson_36', '4_jackson_3'],\n",
       " ['4_jackson_12', '4_jackson_4'],\n",
       " ['4_lucas_36', '4_lucas_0'],\n",
       " ['4_lucas_14', '4_lucas_1'],\n",
       " ['4_lucas_30', '4_lucas_2'],\n",
       " ['4_lucas_13', '4_lucas_3'],\n",
       " ['4_lucas_15', '4_lucas_4'],\n",
       " ['4_nicolas_20', '4_nicolas_0'],\n",
       " ['4_nicolas_10', '4_nicolas_1'],\n",
       " ['4_nicolas_30', '4_nicolas_2'],\n",
       " ['4_nicolas_30', '4_nicolas_3'],\n",
       " ['4_nicolas_21', '4_nicolas_4'],\n",
       " ['4_theo_7', '4_theo_0'],\n",
       " ['4_theo_6', '4_theo_1'],\n",
       " ['4_theo_5', '4_theo_2'],\n",
       " ['4_theo_12', '4_theo_3'],\n",
       " ['4_theo_12', '4_theo_4'],\n",
       " ['4_yweweler_21', '4_yweweler_0'],\n",
       " ['4_yweweler_46', '4_yweweler_1'],\n",
       " ['4_yweweler_21', '4_yweweler_2'],\n",
       " ['4_yweweler_8', '4_yweweler_3'],\n",
       " ['4_yweweler_14', '4_yweweler_4'],\n",
       " ['5_george_46', '5_george_0'],\n",
       " ['5_george_46', '5_george_1'],\n",
       " ['5_george_8', '5_george_2'],\n",
       " ['5_george_8', '5_george_3'],\n",
       " ['5_george_14', '5_george_4'],\n",
       " ['5_jackson_40', '5_jackson_0'],\n",
       " ['5_jackson_12', '5_jackson_1'],\n",
       " ['5_jackson_39', '5_jackson_2'],\n",
       " ['5_jackson_12', '5_jackson_3'],\n",
       " ['5_jackson_38', '5_jackson_4'],\n",
       " ['5_lucas_6', '5_lucas_0'],\n",
       " ['9_lucas_48', '5_lucas_1'],\n",
       " ['5_lucas_6', '5_lucas_2'],\n",
       " ['5_lucas_17', '5_lucas_3'],\n",
       " ['5_lucas_10', '5_lucas_4'],\n",
       " ['5_nicolas_9', '5_nicolas_0'],\n",
       " ['5_nicolas_9', '5_nicolas_1'],\n",
       " ['5_nicolas_19', '5_nicolas_2'],\n",
       " ['5_nicolas_6', '5_nicolas_3'],\n",
       " ['5_nicolas_6', '5_nicolas_4'],\n",
       " ['5_theo_6', '5_theo_0'],\n",
       " ['5_theo_11', '5_theo_1'],\n",
       " ['5_theo_10', '5_theo_2'],\n",
       " ['5_theo_38', '5_theo_3'],\n",
       " ['5_theo_38', '5_theo_4'],\n",
       " ['5_yweweler_18', '5_yweweler_0'],\n",
       " ['5_yweweler_45', '5_yweweler_1'],\n",
       " ['5_yweweler_18', '5_yweweler_2'],\n",
       " ['5_yweweler_45', '5_yweweler_3'],\n",
       " ['5_yweweler_6', '5_yweweler_4'],\n",
       " ['6_george_40', '6_george_0'],\n",
       " ['6_george_15', '6_george_1'],\n",
       " ['6_george_41', '6_george_2'],\n",
       " ['6_george_40', '6_george_3'],\n",
       " ['6_george_45', '6_george_4'],\n",
       " ['6_jackson_28', '6_jackson_0'],\n",
       " ['6_jackson_31', '6_jackson_1'],\n",
       " ['6_jackson_31', '6_jackson_2'],\n",
       " ['6_jackson_7', '6_jackson_3'],\n",
       " ['6_jackson_28', '6_jackson_4'],\n",
       " ['6_lucas_28', '6_lucas_0'],\n",
       " ['6_lucas_6', '6_lucas_1'],\n",
       " ['6_lucas_34', '6_lucas_2'],\n",
       " ['6_lucas_10', '6_lucas_3'],\n",
       " ['6_lucas_27', '6_lucas_4'],\n",
       " ['6_nicolas_18', '6_nicolas_0'],\n",
       " ['6_nicolas_38', '6_nicolas_1'],\n",
       " ['6_nicolas_38', '6_nicolas_2'],\n",
       " ['6_nicolas_14', '6_nicolas_3'],\n",
       " ['6_nicolas_41', '6_nicolas_4'],\n",
       " ['6_theo_26', '6_theo_0'],\n",
       " ['6_theo_16', '6_theo_1'],\n",
       " ['6_theo_13', '6_theo_2'],\n",
       " ['6_theo_32', '6_theo_3'],\n",
       " ['6_theo_49', '6_theo_4'],\n",
       " ['6_yweweler_15', '6_yweweler_0'],\n",
       " ['6_yweweler_42', '6_yweweler_1'],\n",
       " ['6_yweweler_24', '6_yweweler_2'],\n",
       " ['6_yweweler_17', '6_yweweler_3'],\n",
       " ['6_yweweler_23', '6_yweweler_4'],\n",
       " ['7_george_11', '7_george_0'],\n",
       " ['7_george_7', '7_george_1'],\n",
       " ['7_george_10', '7_george_2'],\n",
       " ['7_george_7', '7_george_3'],\n",
       " ['7_george_10', '7_george_4'],\n",
       " ['7_jackson_12', '7_jackson_0'],\n",
       " ['7_jackson_12', '7_jackson_1'],\n",
       " ['7_jackson_37', '7_jackson_2'],\n",
       " ['7_jackson_12', '7_jackson_3'],\n",
       " ['7_jackson_28', '7_jackson_4'],\n",
       " ['7_lucas_10', '7_lucas_0'],\n",
       " ['7_lucas_26', '7_lucas_1'],\n",
       " ['7_lucas_26', '7_lucas_2'],\n",
       " ['7_lucas_10', '7_lucas_3'],\n",
       " ['7_lucas_17', '7_lucas_4'],\n",
       " ['7_nicolas_30', '7_nicolas_0'],\n",
       " ['7_nicolas_12', '7_nicolas_1'],\n",
       " ['7_nicolas_17', '7_nicolas_2'],\n",
       " ['7_nicolas_16', '7_nicolas_3'],\n",
       " ['7_nicolas_19', '7_nicolas_4'],\n",
       " ['7_theo_9', '7_theo_0'],\n",
       " ['7_theo_48', '7_theo_1'],\n",
       " ['7_theo_12', '7_theo_2'],\n",
       " ['7_theo_12', '7_theo_3'],\n",
       " ['7_theo_33', '7_theo_4'],\n",
       " ['7_yweweler_20', '7_yweweler_0'],\n",
       " ['7_yweweler_12', '7_yweweler_1'],\n",
       " ['7_yweweler_43', '7_yweweler_2'],\n",
       " ['7_yweweler_12', '7_yweweler_3'],\n",
       " ['7_yweweler_6', '7_yweweler_4'],\n",
       " ['8_george_6', '8_george_0'],\n",
       " ['8_george_7', '8_george_1'],\n",
       " ['8_george_19', '8_george_2'],\n",
       " ['8_george_49', '8_george_3'],\n",
       " ['8_george_5', '8_george_4'],\n",
       " ['8_jackson_12', '8_jackson_0'],\n",
       " ['8_jackson_29', '8_jackson_1'],\n",
       " ['8_jackson_19', '8_jackson_2'],\n",
       " ['8_jackson_16', '8_jackson_3'],\n",
       " ['8_jackson_16', '8_jackson_4'],\n",
       " ['8_lucas_5', '8_lucas_0'],\n",
       " ['8_lucas_16', '8_lucas_1'],\n",
       " ['8_lucas_7', '8_lucas_2'],\n",
       " ['8_lucas_18', '8_lucas_3'],\n",
       " ['8_lucas_41', '8_lucas_4'],\n",
       " ['8_nicolas_8', '8_nicolas_0'],\n",
       " ['8_nicolas_8', '8_nicolas_1'],\n",
       " ['8_nicolas_8', '8_nicolas_2'],\n",
       " ['8_nicolas_8', '8_nicolas_3'],\n",
       " ['8_nicolas_8', '8_nicolas_4'],\n",
       " ['8_theo_44', '8_theo_0'],\n",
       " ['8_theo_44', '8_theo_1'],\n",
       " ['8_theo_5', '8_theo_2'],\n",
       " ['8_theo_29', '8_theo_3'],\n",
       " ['8_theo_7', '8_theo_4'],\n",
       " ['8_yweweler_41', '8_yweweler_0'],\n",
       " ['8_yweweler_14', '8_yweweler_1'],\n",
       " ['8_yweweler_29', '8_yweweler_2'],\n",
       " ['8_yweweler_14', '8_yweweler_3'],\n",
       " ['8_yweweler_27', '8_yweweler_4'],\n",
       " ['9_george_10', '9_george_0'],\n",
       " ['9_george_11', '9_george_1'],\n",
       " ['9_george_12', '9_george_2'],\n",
       " ['9_george_40', '9_george_3'],\n",
       " ['9_george_12', '9_george_4'],\n",
       " ['9_jackson_28', '9_jackson_0'],\n",
       " ['9_jackson_23', '9_jackson_1'],\n",
       " ['9_jackson_24', '9_jackson_2'],\n",
       " ['9_jackson_22', '9_jackson_3'],\n",
       " ['9_jackson_5', '9_jackson_4'],\n",
       " ['9_lucas_42', '9_lucas_0'],\n",
       " ['9_lucas_5', '9_lucas_1'],\n",
       " ['9_lucas_14', '9_lucas_2'],\n",
       " ['9_lucas_14', '9_lucas_3'],\n",
       " ['9_lucas_8', '9_lucas_4'],\n",
       " ['9_nicolas_21', '9_nicolas_0'],\n",
       " ['9_nicolas_41', '9_nicolas_1'],\n",
       " ['9_nicolas_21', '9_nicolas_2'],\n",
       " ['9_nicolas_20', '9_nicolas_3'],\n",
       " ['9_nicolas_20', '9_nicolas_4'],\n",
       " ['9_theo_45', '9_theo_0'],\n",
       " ['9_theo_45', '9_theo_1'],\n",
       " ['9_theo_45', '9_theo_2'],\n",
       " ['9_theo_6', '9_theo_3'],\n",
       " ['9_theo_6', '9_theo_4'],\n",
       " ['9_yweweler_7', '9_yweweler_0'],\n",
       " ['9_yweweler_12', '9_yweweler_1'],\n",
       " ['9_yweweler_37', '9_yweweler_2'],\n",
       " ['9_yweweler_28', '9_yweweler_3'],\n",
       " ['9_yweweler_37', '9_yweweler_4']]"
      ]
     },
     "execution_count": 9,
     "metadata": {},
     "output_type": "execute_result"
    }
   ],
   "source": [
    "R"
   ]
  },
  {
   "cell_type": "code",
   "execution_count": null,
   "metadata": {},
   "outputs": [],
   "source": [
    "s=0\n",
    "for i in range(300):\n",
    "    split1 = R[i][0]\n",
    "    split1 = split1.rsplit(\"_\", 2)[0]\n",
    "    split2 = R[i][1]\n",
    "    split2 = split2.rsplit(\"_\", 2)[0]\n",
    "    if split1==split2:\n",
    "        s=s+1"
   ]
  },
  {
   "cell_type": "code",
   "execution_count": null,
   "metadata": {},
   "outputs": [
    {
     "data": {
      "text/plain": [
       "0.9833333333333333"
      ]
     },
     "execution_count": 11,
     "metadata": {},
     "output_type": "execute_result"
    }
   ],
   "source": [
    "s/300"
   ]
  }
 ],
 "metadata": {
  "kernelspec": {
   "display_name": "Python 3",
   "language": "python",
   "name": "python3"
  },
  "language_info": {
   "codemirror_mode": {
    "name": "ipython",
    "version": 3
   },
   "file_extension": ".py",
   "mimetype": "text/x-python",
   "name": "python",
   "nbconvert_exporter": "python",
   "pygments_lexer": "ipython3",
   "version": "3.10.8"
  },
  "orig_nbformat": 4
 },
 "nbformat": 4,
 "nbformat_minor": 2
}
