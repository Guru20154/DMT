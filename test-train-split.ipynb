{
 "cells": [
  {
   "cell_type": "code",
   "execution_count": 6,
   "metadata": {},
   "outputs": [],
   "source": [
    "import hub"
   ]
  },
  {
   "cell_type": "code",
   "execution_count": 8,
   "metadata": {},
   "outputs": [
    {
     "name": "stderr",
     "output_type": "stream",
     "text": [
      "|"
     ]
    },
    {
     "name": "stdout",
     "output_type": "stream",
     "text": [
      "This dataset can be visualized in Jupyter Notebook by ds.visualize() or at https://app.activeloop.ai/activeloop/spoken_mnist\n",
      "\n"
     ]
    },
    {
     "name": "stderr",
     "output_type": "stream",
     "text": [
      "|"
     ]
    },
    {
     "name": "stdout",
     "output_type": "stream",
     "text": [
      "hub://activeloop/spoken_mnist loaded successfully.\n",
      "\n"
     ]
    },
    {
     "name": "stderr",
     "output_type": "stream",
     "text": [
      " \r"
     ]
    }
   ],
   "source": [
    "ds = hub.load(\"hub://activeloop/spoken_mnist\")"
   ]
  },
  {
   "cell_type": "code",
   "execution_count": 10,
   "metadata": {},
   "outputs": [],
   "source": [
    "import matplotlib.pyplot as plt"
   ]
  },
  {
   "cell_type": "code",
   "execution_count": 13,
   "metadata": {},
   "outputs": [
    {
     "data": {
      "image/png": "[encoded data removed]",
      "text/plain": [
       "<Figure size 432x288 with 1 Axes>"
      ]
     },
     "metadata": {
      "needs_background": "light"
     },
     "output_type": "display_data"
    }
   ],
   "source": [
    "plt.imshow(ds.spectrograms[0].numpy())\n",
    "plt.title(f\"{ds.speakers[0].data()} spoke {ds.labels[0].numpy()}\")\n",
    "plt.show()"
   ]
  },
  {
   "cell_type": "code",
   "execution_count": 14,
   "metadata": {},
   "outputs": [
    {
     "data": {
      "text/plain": [
       "{'value': 'george'}"
      ]
     },
     "execution_count": 14,
     "metadata": {},
     "output_type": "execute_result"
    }
   ],
   "source": [
    "ds.speakers[0].data()"
   ]
  },
  {
   "cell_type": "code",
   "execution_count": 15,
   "metadata": {},
   "outputs": [
    {
     "data": {
      "text/plain": [
       "array([0], dtype=uint32)"
      ]
     },
     "execution_count": 15,
     "metadata": {},
     "output_type": "execute_result"
    }
   ],
   "source": [
    "ds.labels[0].numpy()"
   ]
  },
  {
   "cell_type": "code",
   "execution_count": 16,
   "metadata": {},
   "outputs": [
    {
     "data": {
      "text/plain": [
       "array([[ -2.],\n",
       "       [ -9.],\n",
       "       [ -5.],\n",
       "       ...,\n",
       "       [-10.],\n",
       "       [  2.],\n",
       "       [ -4.]])"
      ]
     },
     "execution_count": 16,
     "metadata": {},
     "output_type": "execute_result"
    }
   ],
   "source": [
    "ds.audio[2999].numpy()"
   ]
  },
  {
   "cell_type": "code",
   "execution_count": 19,
   "metadata": {},
   "outputs": [
    {
     "data": {
      "text/plain": [
       "array([[[193, 193, 193, 255],\n",
       "        [193, 193, 193, 255],\n",
       "        [190, 190, 190, 255],\n",
       "        ...,\n",
       "        [179, 179, 179, 255],\n",
       "        [177, 177, 177, 255],\n",
       "        [177, 177, 177, 255]],\n",
       "\n",
       "       [[177, 177, 177, 255],\n",
       "        [177, 177, 177, 255],\n",
       "        [174, 174, 174, 255],\n",
       "        ...,\n",
       "        [169, 169, 169, 255],\n",
       "        [168, 168, 168, 255],\n",
       "        [168, 168, 168, 255]],\n",
       "\n",
       "       [[151, 151, 151, 255],\n",
       "        [151, 151, 151, 255],\n",
       "        [149, 149, 149, 255],\n",
       "        ...,\n",
       "        [158, 158, 158, 255],\n",
       "        [156, 156, 156, 255],\n",
       "        [156, 156, 156, 255]],\n",
       "\n",
       "       ...,\n",
       "\n",
       "       [[ 49,  49,  49, 255],\n",
       "        [ 49,  49,  49, 255],\n",
       "        [ 49,  49,  49, 255],\n",
       "        ...,\n",
       "        [ 91,  91,  91, 255],\n",
       "        [ 95,  95,  95, 255],\n",
       "        [ 95,  95,  95, 255]],\n",
       "\n",
       "       [[113, 113, 113, 255],\n",
       "        [113, 113, 113, 255],\n",
       "        [113, 113, 113, 255],\n",
       "        ...,\n",
       "        [152, 152, 152, 255],\n",
       "        [156, 156, 156, 255],\n",
       "        [156, 156, 156, 255]],\n",
       "\n",
       "       [[157, 157, 157, 255],\n",
       "        [157, 157, 157, 255],\n",
       "        [157, 157, 157, 255],\n",
       "        ...,\n",
       "        [156, 156, 156, 255],\n",
       "        [157, 157, 157, 255],\n",
       "        [157, 157, 157, 255]]], dtype=uint8)"
      ]
     },
     "execution_count": 19,
     "metadata": {},
     "output_type": "execute_result"
    }
   ],
   "source": [
    "ds.spectrograms[1].numpy()"
   ]
  },
  {
   "cell_type": "code",
   "execution_count": 20,
   "metadata": {},
   "outputs": [
    {
     "name": "stdout",
     "output_type": "stream",
     "text": [
      "2384\n",
      "4727\n",
      "5958\n",
      "3661\n",
      "4050\n",
      "4349\n",
      "4304\n",
      "4186\n",
      "5054\n",
      "4674\n"
     ]
    },
    {
     "name": "stderr",
     "output_type": "stream",
     "text": [
      "C:\\Users\\ankit\\AppData\\Roaming\\Python\\Python310\\site-packages\\deeplake\\core\\tensor.py:641: UserWarning: Indexing by integer in a for loop, like `for i in range(len(ds)): ... ds.tensor[i]` can be quite slow. Use `for i, sample in enumerate(ds)` instead.\n",
      "  warnings.warn(\n"
     ]
    },
    {
     "name": "stdout",
     "output_type": "stream",
     "text": [
      "5581\n",
      "4465\n",
      "5332\n",
      "4347\n",
      "4260\n"
     ]
    }
   ],
   "source": [
    "for i in range(15):\n",
    "    print(len(ds.audio[i].numpy()))"
   ]
  },
  {
   "cell_type": "code",
   "execution_count": 30,
   "metadata": {},
   "outputs": [],
   "source": [
    "import os\n",
    "from pathlib import Path\n",
    "from shutil import copyfile\n",
    "\n",
    "def separate(source):\n",
    "    for filename in os.listdir(source):\n",
    "        first_split = filename.rsplit(\"_\", 1)[1]\n",
    "        second_split = first_split.rsplit(\".\", 1)[0]\n",
    "        if int(second_split) <= 4:\n",
    "            copyfile(source + \"/\" + filename, \"testing-spectrograms\" + \"/\" + filename)\n",
    "        else:\n",
    "            copyfile(source + \"/\" + filename, \"training-spectrograms\" + \"/\" + filename)"
   ]
  },
  {
   "cell_type": "code",
   "execution_count": 31,
   "metadata": {},
   "outputs": [],
   "source": [
    "separate('free-spoken-digit-dataset-master/free-spoken-digit-dataset-master/recordings')"
   ]
  },
  {
   "cell_type": "code",
   "execution_count": 152,
   "metadata": {},
   "outputs": [],
   "source": [
    "train_drec = 'training-spectrograms'\n",
    "test_drec = 'testing-spectrograms'"
   ]
  },
  {
   "cell_type": "code",
   "execution_count": 154,
   "metadata": {},
   "outputs": [],
   "source": [
    "import librosa\n",
    "import numpy as np\n",
    "\n",
    "w = 240\n",
    "s = 120\n",
    "j=0\n",
    "for filename in os.listdir(train_drec):\n",
    "    path = train_drec + \"/\" + filename\n",
    "    audio_data, sample_rate = librosa.load(path)\n",
    "    num_frames = (len(audio_data) - w) // s + 1\n",
    "    frames = np.zeros((num_frames, w))\n",
    "\n",
    "    split = filename.rsplit(\".\", 1)[0]\n",
    "    \n",
    "    for i in range(num_frames):\n",
    "        start = i * s\n",
    "        end = start + w\n",
    "        frames[i] = audio_data[start : end]\n",
    "    if j==0:\n",
    "        A_train = [frames]\n",
    "        label_name_train = [split]\n",
    "    else:\n",
    "        A_train = A_train + [frames]\n",
    "        label_name_train = label_name_train + [split]\n",
    "    j = j + 1\n",
    "\n",
    "h = 0\n",
    "for filename in os.listdir(test_drec):\n",
    "    path = test_drec + \"/\" + filename\n",
    "    audio_data, sample_rate = librosa.load(path)\n",
    "    num_frames = (len(audio_data) - w) // s + 1\n",
    "    frames = np.zeros((num_frames, w))\n",
    "\n",
    "    split = filename.rsplit(\".\", 1)[0]\n",
    "    \n",
    "    for i in range(num_frames):\n",
    "        start = i * s\n",
    "        end = start + w\n",
    "        frames[i] = audio_data[start : end]\n",
    "    if h==0:\n",
    "        A_test = [frames]\n",
    "        label_name_test = [split]\n",
    "    else:\n",
    "        A_test = A_test + [frames]\n",
    "        label_name_test = label_name_test + [split]\n",
    "    h = h + 1"
   ]
  },
  {
   "cell_type": "code",
   "execution_count": 155,
   "metadata": {},
   "outputs": [
    {
     "data": {
      "text/plain": [
       "(['0_george_10', '0_george_11', '0_george_12', '0_george_13', '0_george_14'],\n",
       " ['0_george_0', '0_george_1', '0_george_2', '0_george_3', '0_george_4'])"
      ]
     },
     "execution_count": 155,
     "metadata": {},
     "output_type": "execute_result"
    }
   ],
   "source": [
    "label_name_train[0:5],label_name_test[0:5]"
   ]
  },
  {
   "cell_type": "code",
   "execution_count": 156,
   "metadata": {},
   "outputs": [
    {
     "data": {
      "text/plain": [
       "(array([[-6.56158337e-03, -1.40369963e-02, -1.71669386e-02, ...,\n",
       "          2.01026816e-03,  1.54121476e-03,  7.36800604e-04],\n",
       "        [-3.29799368e-03, -2.37949658e-03,  1.92156294e-05, ...,\n",
       "         -3.97955999e-04, -9.88557353e-04, -1.10605045e-03],\n",
       "        [ 3.04409245e-04,  5.55580191e-04,  1.14225282e-03, ...,\n",
       "          1.10515882e-03,  3.44533531e-04, -5.62029774e-04],\n",
       "        ...,\n",
       "        [ 2.62733782e-03,  2.32200464e-03,  2.05859286e-03, ...,\n",
       "          2.18564738e-03,  2.74077477e-03,  3.56525881e-03],\n",
       "        [ 2.83672847e-03,  2.58215121e-03,  2.09627766e-03, ...,\n",
       "         -5.39426459e-03, -5.13174431e-03, -4.72025294e-03],\n",
       "        [ 4.06961842e-03,  3.95270903e-03,  3.49301053e-03, ...,\n",
       "          3.33948270e-03,  3.18617909e-03,  2.76323431e-03]]),\n",
       " array([[-0.04229989, -0.04891741, -0.0376581 , ...,  0.07926411,\n",
       "          0.09111017,  0.09099399],\n",
       "        [ 0.05116938,  0.07361019,  0.09036987, ..., -0.08270819,\n",
       "         -0.06022616, -0.02047335],\n",
       "        [ 0.08318868,  0.07566807,  0.0752084 , ..., -0.25920355,\n",
       "         -0.24739918, -0.19127223],\n",
       "        ...,\n",
       "        [ 0.05966128,  0.06573591,  0.06967591, ...,  0.04407945,\n",
       "          0.05304315,  0.0598781 ],\n",
       "        [-0.04986592, -0.05943987, -0.06879377, ..., -0.01452904,\n",
       "         -0.0250934 , -0.03624503],\n",
       "        [ 0.06375858,  0.06488495,  0.064604  , ...,  0.06576049,\n",
       "          0.07264094,  0.07879946]]))"
      ]
     },
     "execution_count": 156,
     "metadata": {},
     "output_type": "execute_result"
    }
   ],
   "source": [
    "A_train[0],A_test[0]"
   ]
  },
  {
   "cell_type": "code",
   "execution_count": 158,
   "metadata": {},
   "outputs": [
    {
     "name": "stderr",
     "output_type": "stream",
     "text": [
      "C:\\Users\\ankit\\AppData\\Roaming\\Python\\Python310\\site-packages\\librosa\\core\\spectrum.py:256: UserWarning: n_fft=2048 is too large for input signal of length=240\n",
      "  warnings.warn(\n"
     ]
    }
   ],
   "source": [
    "mfcc_train=[]\n",
    "for i in A_train:\n",
    "    mfcc_features = librosa.feature.mfcc(y=i, sr=22050)\n",
    "    mfcc_train = mfcc_train + [mfcc_features]\n",
    "mfcc_test=[]\n",
    "for i in A_test:\n",
    "    mfcc_features = librosa.feature.mfcc(y=i, sr=22050)\n",
    "    mfcc_test = mfcc_test + [mfcc_features]\n"
   ]
  },
  {
   "cell_type": "code",
   "execution_count": 159,
   "metadata": {},
   "outputs": [
    {
     "data": {
      "text/plain": [
       "(2700, 300)"
      ]
     },
     "execution_count": 159,
     "metadata": {},
     "output_type": "execute_result"
    }
   ],
   "source": [
    "len(mfcc_train),len(mfcc_test)"
   ]
  }
 ],
 "metadata": {
  "kernelspec": {
   "display_name": "Python 3",
   "language": "python",
   "name": "python3"
  },
  "language_info": {
   "codemirror_mode": {
    "name": "ipython",
    "version": 3
   },
   "file_extension": ".py",
   "mimetype": "text/x-python",
   "name": "python",
   "nbconvert_exporter": "python",
   "pygments_lexer": "ipython3",
   "version": "3.10.8"
  },
  "orig_nbformat": 4
 },
 "nbformat": 4,
 "nbformat_minor": 2
}
